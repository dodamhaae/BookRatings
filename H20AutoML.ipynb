{
 "cells": [
  {
   "cell_type": "code",
   "execution_count": 1,
   "id": "295dca32-430e-440c-9f84-15dbc3a5fb48",
   "metadata": {
    "tags": []
   },
   "outputs": [],
   "source": [
    "import h2o\n",
    "import pandas as pd\n",
    "import warnings\n",
    "warnings.filterwarnings(action='ignore')"
   ]
  },
  {
   "cell_type": "code",
   "execution_count": 2,
   "id": "f912edca-2f20-434e-a5e0-bfc46b375cce",
   "metadata": {
    "tags": []
   },
   "outputs": [
    {
     "name": "stdout",
     "output_type": "stream",
     "text": [
      "Checking whether there is an H2O instance running at http://localhost:54321..... not found.\n",
      "Attempting to start a local H2O server...\n",
      "  Java Version: java version \"11.0.18\" 2023-01-17 LTS; Java(TM) SE Runtime Environment 18.9 (build 11.0.18+9-LTS-195); Java HotSpot(TM) 64-Bit Server VM 18.9 (build 11.0.18+9-LTS-195, mixed mode)\n",
      "  Starting server from /Users/dodam/Desktop/Project/venvs/jupyterlab/lib/python3.9/site-packages/h2o/backend/bin/h2o.jar\n",
      "  Ice root: /var/folders/18/gyvv8jl912s4m49p2kzkzznc0000gn/T/tmp12oo1m6f\n",
      "  JVM stdout: /var/folders/18/gyvv8jl912s4m49p2kzkzznc0000gn/T/tmp12oo1m6f/h2o_dodam_started_from_python.out\n",
      "  JVM stderr: /var/folders/18/gyvv8jl912s4m49p2kzkzznc0000gn/T/tmp12oo1m6f/h2o_dodam_started_from_python.err\n",
      "  Server is running at http://127.0.0.1:54321\n",
      "Connecting to H2O server at http://127.0.0.1:54321 ... successful.\n"
     ]
    },
    {
     "data": {
      "text/html": [
       "\n",
       "<style>\n",
       "\n",
       "#h2o-table-1.h2o-container {\n",
       "  overflow-x: auto;\n",
       "}\n",
       "#h2o-table-1 .h2o-table {\n",
       "  /* width: 100%; */\n",
       "  margin-top: 1em;\n",
       "  margin-bottom: 1em;\n",
       "}\n",
       "#h2o-table-1 .h2o-table caption {\n",
       "  white-space: nowrap;\n",
       "  caption-side: top;\n",
       "  text-align: left;\n",
       "  /* margin-left: 1em; */\n",
       "  margin: 0;\n",
       "  font-size: larger;\n",
       "}\n",
       "#h2o-table-1 .h2o-table thead {\n",
       "  white-space: nowrap; \n",
       "  position: sticky;\n",
       "  top: 0;\n",
       "  box-shadow: 0 -1px inset;\n",
       "}\n",
       "#h2o-table-1 .h2o-table tbody {\n",
       "  overflow: auto;\n",
       "}\n",
       "#h2o-table-1 .h2o-table th,\n",
       "#h2o-table-1 .h2o-table td {\n",
       "  text-align: right;\n",
       "  /* border: 1px solid; */\n",
       "}\n",
       "#h2o-table-1 .h2o-table tr:nth-child(even) {\n",
       "  /* background: #F5F5F5 */\n",
       "}\n",
       "\n",
       "</style>      \n",
       "<div id=\"h2o-table-1\" class=\"h2o-container\">\n",
       "  <table class=\"h2o-table\">\n",
       "    <caption></caption>\n",
       "    <thead></thead>\n",
       "    <tbody><tr><td>H2O_cluster_uptime:</td>\n",
       "<td>01 secs</td></tr>\n",
       "<tr><td>H2O_cluster_timezone:</td>\n",
       "<td>Asia/Seoul</td></tr>\n",
       "<tr><td>H2O_data_parsing_timezone:</td>\n",
       "<td>UTC</td></tr>\n",
       "<tr><td>H2O_cluster_version:</td>\n",
       "<td>3.40.0.3</td></tr>\n",
       "<tr><td>H2O_cluster_version_age:</td>\n",
       "<td>15 days</td></tr>\n",
       "<tr><td>H2O_cluster_name:</td>\n",
       "<td>H2O_from_python_dodam_7brhr7</td></tr>\n",
       "<tr><td>H2O_cluster_total_nodes:</td>\n",
       "<td>1</td></tr>\n",
       "<tr><td>H2O_cluster_free_memory:</td>\n",
       "<td>4 Gb</td></tr>\n",
       "<tr><td>H2O_cluster_total_cores:</td>\n",
       "<td>8</td></tr>\n",
       "<tr><td>H2O_cluster_allowed_cores:</td>\n",
       "<td>8</td></tr>\n",
       "<tr><td>H2O_cluster_status:</td>\n",
       "<td>locked, healthy</td></tr>\n",
       "<tr><td>H2O_connection_url:</td>\n",
       "<td>http://127.0.0.1:54321</td></tr>\n",
       "<tr><td>H2O_connection_proxy:</td>\n",
       "<td>{\"http\": null, \"https\": null}</td></tr>\n",
       "<tr><td>H2O_internal_security:</td>\n",
       "<td>False</td></tr>\n",
       "<tr><td>Python_version:</td>\n",
       "<td>3.9.6 final</td></tr></tbody>\n",
       "  </table>\n",
       "</div>\n"
      ],
      "text/plain": [
       "--------------------------  -----------------------------\n",
       "H2O_cluster_uptime:         01 secs\n",
       "H2O_cluster_timezone:       Asia/Seoul\n",
       "H2O_data_parsing_timezone:  UTC\n",
       "H2O_cluster_version:        3.40.0.3\n",
       "H2O_cluster_version_age:    15 days\n",
       "H2O_cluster_name:           H2O_from_python_dodam_7brhr7\n",
       "H2O_cluster_total_nodes:    1\n",
       "H2O_cluster_free_memory:    4 Gb\n",
       "H2O_cluster_total_cores:    8\n",
       "H2O_cluster_allowed_cores:  8\n",
       "H2O_cluster_status:         locked, healthy\n",
       "H2O_connection_url:         http://127.0.0.1:54321\n",
       "H2O_connection_proxy:       {\"http\": null, \"https\": null}\n",
       "H2O_internal_security:      False\n",
       "Python_version:             3.9.6 final\n",
       "--------------------------  -----------------------------"
      ]
     },
     "metadata": {},
     "output_type": "display_data"
    }
   ],
   "source": [
    "h2o.init()"
   ]
  },
  {
   "cell_type": "code",
   "execution_count": 3,
   "id": "43dbe1d8-61bb-4690-97e4-c5fffd819125",
   "metadata": {
    "tags": []
   },
   "outputs": [
    {
     "name": "stdout",
     "output_type": "stream",
     "text": [
      "Parse progress: |████████████████████████████████████████████████████████████████| (done) 100%\n",
      "Parse progress: |████████████████████████████████████████████████████████████████| (done) 100%\n"
     ]
    }
   ],
   "source": [
    "train = h2o.import_file('../data/BookRecommendations/train.csv')\n",
    "test = h2o.import_file('../data/BookRecommendations/test.csv')"
   ]
  },
  {
   "cell_type": "code",
   "execution_count": 4,
   "id": "178cc2ba-57b0-4cb7-b720-b721ff24b23e",
   "metadata": {
    "tags": []
   },
   "outputs": [],
   "source": [
    "x = train.columns\n",
    "y = \"Book-Rating\"\n",
    "x.remove(y)"
   ]
  },
  {
   "cell_type": "code",
   "execution_count": 5,
   "id": "ad13955b-a671-438b-9d51-5e1d54e26fe3",
   "metadata": {
    "tags": []
   },
   "outputs": [
    {
     "name": "stdout",
     "output_type": "stream",
     "text": [
      "AutoML progress: |\n",
      "23:04:17.78: AutoML: XGBoost is not available; skipping it.\n",
      "23:04:17.103: _train param, Dropping bad and constant columns: [ID]\n",
      "\n",
      "████████████\n",
      "23:05:18.98: _train param, Dropping bad and constant columns: [ID]\n",
      "\n",
      "█\n",
      "23:05:29.400: _train param, Dropping bad and constant columns: [ID]\n",
      "\n",
      "████████\n",
      "23:06:14.775: _train param, Dropping bad and constant columns: [ID]\n",
      "\n",
      "█\n",
      "23:06:22.109: _train param, Dropping bad and constant columns: [ID]\n",
      "\n",
      "██\n",
      "23:06:29.305: _train param, Dropping bad and constant columns: [ID]\n",
      "\n",
      "███████████████████████████████████████| (done) 100%\n",
      "model_id                           rmse      mse      mae      rmsle    mean_residual_deviance\n",
      "GBM_1_AutoML_1_20230419_230416  3.48461  12.1425  3.03241    1.05993                   12.1425\n",
      "GBM_4_AutoML_1_20230419_230416  3.51542  12.3582  3.09414  nan                         12.3582\n",
      "GBM_3_AutoML_1_20230419_230416  3.54663  12.5786  3.14325  nan                         12.5786\n",
      "GBM_2_AutoML_1_20230419_230416  3.56379  12.7006  3.16793  nan                         12.7006\n",
      "GLM_1_AutoML_1_20230419_230416  3.58071  12.8215  3.19899  nan                         12.8215\n",
      "DRF_1_AutoML_1_20230419_230416  3.59752  12.9422  3.2298     1.10245                   12.9422\n",
      "[6 rows x 6 columns]\n",
      "\n"
     ]
    }
   ],
   "source": [
    "from h2o.automl import H2OAutoML\n",
    "\n",
    "aml = H2OAutoML(\n",
    "    max_models=10,\n",
    "    seed=42,\n",
    "    max_runtime_secs=360,\n",
    "    sort_metric='RMSE'\n",
    "\n",
    ")\n",
    "\n",
    "aml.train(\n",
    "    x=x,\n",
    "    y=y,\n",
    "    training_frame=train\n",
    ")\n",
    "\n",
    "leaderboard = aml.leaderboard\n",
    "print(leaderboard.head())"
   ]
  },
  {
   "cell_type": "code",
   "execution_count": 6,
   "id": "2be03399-4123-4327-87e0-57f86eef3fbd",
   "metadata": {
    "tags": []
   },
   "outputs": [],
   "source": [
    "model = aml.leader"
   ]
  },
  {
   "cell_type": "code",
   "execution_count": 7,
   "id": "c476a181-dd7c-496d-9877-0f8fd3f08a48",
   "metadata": {
    "tags": []
   },
   "outputs": [
    {
     "name": "stdout",
     "output_type": "stream",
     "text": [
      "gbm prediction progress: |███████████████████████████████████████████████████████| (done) 100%\n"
     ]
    }
   ],
   "source": [
    "pred = model.predict(test)"
   ]
  },
  {
   "cell_type": "code",
   "execution_count": 8,
   "id": "e11fd4b8-109f-4a16-9781-4698de7d5da1",
   "metadata": {
    "tags": []
   },
   "outputs": [],
   "source": [
    "preds = pd.DataFrame(pred.as_data_frame())"
   ]
  },
  {
   "cell_type": "code",
   "execution_count": 9,
   "id": "ee9d627d-ed2e-4bfb-8879-b7d386888c7f",
   "metadata": {
    "tags": []
   },
   "outputs": [],
   "source": [
    "submission = pd.read_csv('../data/BookRecommendations/sample_submission.csv')"
   ]
  },
  {
   "cell_type": "code",
   "execution_count": 10,
   "id": "5e356edd-6168-401c-b742-b54e66cef41d",
   "metadata": {
    "tags": []
   },
   "outputs": [],
   "source": [
    "submission['Book-Rating'] = preds['predict']"
   ]
  },
  {
   "cell_type": "code",
   "execution_count": 11,
   "id": "6ba212d7-469c-413a-a200-98c2b3019d41",
   "metadata": {
    "tags": []
   },
   "outputs": [],
   "source": [
    "submission.to_csv('submission02.csv', index=False)"
   ]
  }
 ],
 "metadata": {
  "kernelspec": {
   "display_name": "Python 3 (ipykernel)",
   "language": "python",
   "name": "python3"
  },
  "language_info": {
   "codemirror_mode": {
    "name": "ipython",
    "version": 3
   },
   "file_extension": ".py",
   "mimetype": "text/x-python",
   "name": "python",
   "nbconvert_exporter": "python",
   "pygments_lexer": "ipython3",
   "version": "3.9.6"
  }
 },
 "nbformat": 4,
 "nbformat_minor": 5
}
